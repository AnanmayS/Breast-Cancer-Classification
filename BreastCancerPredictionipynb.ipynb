{
  "nbformat": 4,
  "nbformat_minor": 0,
  "metadata": {
    "colab": {
      "provenance": [],
      "gpuType": "T4",
      "authorship_tag": "ABX9TyP+27CHR0Y1JKz0rT/RVpRm",
      "include_colab_link": true
    },
    "kernelspec": {
      "name": "python3",
      "display_name": "Python 3"
    },
    "language_info": {
      "name": "python"
    },
    "accelerator": "GPU"
  },
  "cells": [
    {
      "cell_type": "markdown",
      "metadata": {
        "id": "view-in-github",
        "colab_type": "text"
      },
      "source": [
        "<a href=\"https://colab.research.google.com/github/AnanmayS/BreastCancerPredictionNN/blob/main/BreastCancerPredictionipynb.ipynb\" target=\"_parent\"><img src=\"https://colab.research.google.com/assets/colab-badge.svg\" alt=\"Open In Colab\"/></a>"
      ]
    },
    {
      "cell_type": "markdown",
      "source": [
        "Importing Libs"
      ],
      "metadata": {
        "id": "vjsIUCxnOXwJ"
      }
    },
    {
      "cell_type": "code",
      "execution_count": null,
      "metadata": {
        "id": "9PQ3PT-IN9Dp"
      },
      "outputs": [],
      "source": [
        "import torch\n",
        "import torch.nn as nn\n",
        "import torch.optim as optim\n",
        "from sklearn.datasets import load_breast_cancer\n",
        "from sklearn.model_selection import train_test_split\n",
        "from sklearn.preprocessing import StandardScaler"
      ]
    },
    {
      "cell_type": "markdown",
      "source": [
        "Running On GPU"
      ],
      "metadata": {
        "id": "ZeYvsgvTO9lB"
      }
    },
    {
      "cell_type": "code",
      "source": [
        "device = torch.device(\"cuda\" if torch.cuda.is_available() else \"cpu\")\n",
        "print(f\"Current Device Used: {device}\")"
      ],
      "metadata": {
        "colab": {
          "base_uri": "https://localhost:8080/"
        },
        "id": "nSzOkHvuO_HQ",
        "outputId": "9d682510-8583-4901-cc0d-82157f65b6cb"
      },
      "execution_count": null,
      "outputs": [
        {
          "output_type": "stream",
          "name": "stdout",
          "text": [
            "Current Device Used: cuda\n"
          ]
        }
      ]
    },
    {
      "cell_type": "markdown",
      "source": [
        "Collecting Data and Preproccessing"
      ],
      "metadata": {
        "id": "M2bmY_xgPj4k"
      }
    },
    {
      "cell_type": "code",
      "source": [
        "# Load dataset\n",
        "data = load_breast_cancer()\n",
        "X = data.data\n",
        "y = data.target"
      ],
      "metadata": {
        "id": "sMG_EBIEPp_A"
      },
      "execution_count": null,
      "outputs": []
    },
    {
      "cell_type": "markdown",
      "source": [
        "Splitting Dataset into train and test"
      ],
      "metadata": {
        "id": "qbCEGAMZP9zK"
      }
    },
    {
      "cell_type": "code",
      "source": [
        "X_train, X_test, y_train, y_test = train_test_split(X, y, test_size=0.2, random_state=42)"
      ],
      "metadata": {
        "id": "s1GzSNk5PvjS"
      },
      "execution_count": null,
      "outputs": []
    },
    {
      "cell_type": "markdown",
      "source": [
        "Standardize Data With Standard Scaler"
      ],
      "metadata": {
        "id": "VTthKY7ZQ25n"
      }
    },
    {
      "cell_type": "code",
      "source": [
        "scaler = StandardScaler()\n",
        "X_train = scaler.fit_transform(X_train)\n",
        "X_test = scaler.transform(X_test)"
      ],
      "metadata": {
        "id": "l2bCQ-uSQ9xO"
      },
      "execution_count": null,
      "outputs": []
    },
    {
      "cell_type": "code",
      "source": [
        "# Convert train and test to tensors from numpy and move to GPU\n",
        "\n",
        "X_train = torch.tensor(X_train, dtype=torch.float32).to(device)\n",
        "X_test = torch.tensor(X_test, dtype=torch.float32).to(device)\n",
        "y_train = torch.tensor(y_train, dtype=torch.float32).to(device)\n",
        "y_test = torch.tensor(y_test, dtype=torch.float32).to(device)"
      ],
      "metadata": {
        "id": "ifEp197pRaQq"
      },
      "execution_count": null,
      "outputs": []
    },
    {
      "cell_type": "markdown",
      "source": [
        "Creating NN Architecture"
      ],
      "metadata": {
        "id": "4XZDlbIfS_7o"
      }
    },
    {
      "cell_type": "code",
      "source": [
        "class NeuralNetwork(nn.Module):\n",
        "\n",
        "  def __init__(self, input_size, hidden_size, output_size):\n",
        "    super(NeuralNetwork, self).__init__()\n",
        "    self.fc1 = nn.Linear(input_size, hidden_size)\n",
        "    self.relu = nn.ReLU()\n",
        "    self.fc2 = nn.Linear(hidden_size, output_size)\n",
        "    self.sigmoid = nn.Sigmoid()\n",
        "\n",
        "  # forward prop\n",
        "  def forward(self, x):\n",
        "    output = self.fc1(x)\n",
        "    output = self.relu(output)\n",
        "    output = self.fc2(output)\n",
        "    output = self.sigmoid(output)\n",
        "    return output\n",
        "\n"
      ],
      "metadata": {
        "id": "0nk2gKBFSsUt"
      },
      "execution_count": null,
      "outputs": []
    },
    {
      "cell_type": "code",
      "source": [
        "# hyperparamters\n",
        "\n",
        "input_size = X_train.shape[1]\n",
        "hidden_size = 64\n",
        "output_size = 1\n",
        "learn_rate = 0.001\n",
        "epochs = 100"
      ],
      "metadata": {
        "id": "nWx00a6IUCKL"
      },
      "execution_count": null,
      "outputs": []
    },
    {
      "cell_type": "code",
      "source": [
        "# init model / move to gpu\n",
        "\n",
        "model = NeuralNetwork(input_size, hidden_size, output_size).to(device)\n"
      ],
      "metadata": {
        "id": "YZ6jdVmeWrL3"
      },
      "execution_count": null,
      "outputs": []
    },
    {
      "cell_type": "code",
      "source": [
        "# Loss / Optimize\n",
        "\n",
        "criterion = nn.BCELoss()\n",
        "optimizer = optim.Adam(model.parameters(), lr=learn_rate)"
      ],
      "metadata": {
        "id": "ls0_jIWcW9xA"
      },
      "execution_count": null,
      "outputs": []
    },
    {
      "cell_type": "markdown",
      "source": [
        "training NN"
      ],
      "metadata": {
        "id": "khityLuQXt9r"
      }
    },
    {
      "cell_type": "code",
      "source": [
        "for epoch in range(epochs):\n",
        "    model.train()  # Set the model to training mode\n",
        "    optimizer.zero_grad()  # Reset gradients to zero\n",
        "\n",
        "    outputs = model(X_train)  # Forward pass\n",
        "    loss = criterion(outputs, y_train.view(-1, 1))  # Calculate loss (fix typo)\n",
        "\n",
        "    loss.backward()  # Backpropagation\n",
        "    optimizer.step()  # Update model parameters\n",
        "\n",
        "    # Check accuracy (without gradient tracking)\n",
        "    with torch.no_grad():\n",
        "        predicted = outputs.round()  # Round the outputs to get binary predictions\n",
        "        correct = (predicted == y_train.view(-1, 1)).float().sum()  # Compare with actual labels\n",
        "        acc = correct / y_train.size(0)  # Calculate accuracy\n",
        "\n",
        "    # Print status every 10 epochs\n",
        "    if (epoch + 1) % 10 == 0:\n",
        "        print(f\"Current Epoch: {epoch + 1}/{epochs}\")\n",
        "        print(f\"Loss: {loss.item():.4f}\")\n",
        "        print(f\"Accuracy: {acc.item() * 100:.2f}%\")\n",
        "        print(\"\\n\")\n"
      ],
      "metadata": {
        "colab": {
          "base_uri": "https://localhost:8080/"
        },
        "id": "-gQ6R1AhXvyb",
        "outputId": "fd15f8d2-6979-4b7d-9fcf-4d12eefda42e"
      },
      "execution_count": null,
      "outputs": [
        {
          "output_type": "stream",
          "name": "stdout",
          "text": [
            "Current Epoch: 10/100\n",
            "Loss: 0.1005\n",
            "Accuracy: 97.80%\n",
            "\n",
            "\n",
            "Current Epoch: 20/100\n",
            "Loss: 0.0929\n",
            "Accuracy: 97.80%\n",
            "\n",
            "\n",
            "Current Epoch: 30/100\n",
            "Loss: 0.0865\n",
            "Accuracy: 98.24%\n",
            "\n",
            "\n",
            "Current Epoch: 40/100\n",
            "Loss: 0.0810\n",
            "Accuracy: 98.24%\n",
            "\n",
            "\n",
            "Current Epoch: 50/100\n",
            "Loss: 0.0762\n",
            "Accuracy: 98.24%\n",
            "\n",
            "\n",
            "Current Epoch: 60/100\n",
            "Loss: 0.0721\n",
            "Accuracy: 98.24%\n",
            "\n",
            "\n",
            "Current Epoch: 70/100\n",
            "Loss: 0.0684\n",
            "Accuracy: 98.46%\n",
            "\n",
            "\n",
            "Current Epoch: 80/100\n",
            "Loss: 0.0652\n",
            "Accuracy: 98.46%\n",
            "\n",
            "\n",
            "Current Epoch: 90/100\n",
            "Loss: 0.0622\n",
            "Accuracy: 98.46%\n",
            "\n",
            "\n",
            "Current Epoch: 100/100\n",
            "Loss: 0.0596\n",
            "Accuracy: 98.46%\n",
            "\n",
            "\n"
          ]
        }
      ]
    },
    {
      "cell_type": "markdown",
      "source": [
        "Evaluating The Training Data"
      ],
      "metadata": {
        "id": "CqUoix-Mim--"
      }
    },
    {
      "cell_type": "code",
      "source": [
        "model.eval()\n",
        "\n",
        "with torch.no_grad():\n",
        "  outputs = model(X_train)\n",
        "  predicted = outputs.round()  # Round the outputs to get binary predictions\n",
        "  correct = (predicted == y_train.view(-1, 1)).float().sum()  # Compare with actual labels\n",
        "  acc = correct / y_train.size(0)  # Calculate accuracy\n",
        "  print(f\"Training Data Accuracy: {acc.item() * 100:.2f}%\")"
      ],
      "metadata": {
        "id": "G7DptkbJZ2nS",
        "colab": {
          "base_uri": "https://localhost:8080/"
        },
        "outputId": "51e2d525-6ef7-4e57-dde8-2fbe471d3682"
      },
      "execution_count": null,
      "outputs": [
        {
          "output_type": "stream",
          "name": "stdout",
          "text": [
            "Training Data Accuracy: 98.46%\n"
          ]
        }
      ]
    },
    {
      "cell_type": "markdown",
      "source": [
        "Evaluating The Test Data"
      ],
      "metadata": {
        "id": "uGgBHkzCjh8Y"
      }
    },
    {
      "cell_type": "code",
      "source": [
        "model.eval()\n",
        "\n",
        "with torch.no_grad():\n",
        "  outputs = model(X_test)\n",
        "  predicted = outputs.round()  # Round the outputs to get binary predictions\n",
        "  correct = (predicted == y_test.view(-1, 1)).float().sum()  # Compare with actual labels\n",
        "  acc = correct / y_test.size(0)  # Calculate accuracy\n",
        "  print(f\"Training Test Accuracy: {acc.item() * 100:.2f}%\")"
      ],
      "metadata": {
        "colab": {
          "base_uri": "https://localhost:8080/"
        },
        "id": "Zi9siuPtjb91",
        "outputId": "77e2bb62-3b62-4745-81b0-949149469b25"
      },
      "execution_count": null,
      "outputs": [
        {
          "output_type": "stream",
          "name": "stdout",
          "text": [
            "Training Test Accuracy: 97.37%\n"
          ]
        }
      ]
    },
    {
      "cell_type": "code",
      "source": [],
      "metadata": {
        "id": "g_o6hjrmjusw"
      },
      "execution_count": null,
      "outputs": []
    }
  ]
}